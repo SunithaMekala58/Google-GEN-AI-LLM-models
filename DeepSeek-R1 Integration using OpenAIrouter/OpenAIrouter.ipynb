{
  "nbformat": 4,
  "nbformat_minor": 0,
  "metadata": {
    "colab": {
      "provenance": [],
      "gpuType": "T4"
    },
    "kernelspec": {
      "name": "python3",
      "display_name": "Python 3"
    },
    "language_info": {
      "name": "python"
    },
    "accelerator": "GPU"
  },
  "cells": [
    {
      "cell_type": "code",
      "execution_count": 1,
      "metadata": {
        "colab": {
          "base_uri": "https://localhost:8080/"
        },
        "id": "5loE-TgRBn8s",
        "outputId": "50a2f508-ae1b-478d-adfc-c5f4bc8a72f2"
      },
      "outputs": [
        {
          "output_type": "stream",
          "name": "stdout",
          "text": [
            "Tue Feb 11 12:45:28 2025       \n",
            "+-----------------------------------------------------------------------------------------+\n",
            "| NVIDIA-SMI 550.54.15              Driver Version: 550.54.15      CUDA Version: 12.4     |\n",
            "|-----------------------------------------+------------------------+----------------------+\n",
            "| GPU  Name                 Persistence-M | Bus-Id          Disp.A | Volatile Uncorr. ECC |\n",
            "| Fan  Temp   Perf          Pwr:Usage/Cap |           Memory-Usage | GPU-Util  Compute M. |\n",
            "|                                         |                        |               MIG M. |\n",
            "|=========================================+========================+======================|\n",
            "|   0  Tesla T4                       Off |   00000000:00:04.0 Off |                    0 |\n",
            "| N/A   38C    P8              9W /   70W |       0MiB /  15360MiB |      0%      Default |\n",
            "|                                         |                        |                  N/A |\n",
            "+-----------------------------------------+------------------------+----------------------+\n",
            "                                                                                         \n",
            "+-----------------------------------------------------------------------------------------+\n",
            "| Processes:                                                                              |\n",
            "|  GPU   GI   CI        PID   Type   Process name                              GPU Memory |\n",
            "|        ID   ID                                                               Usage      |\n",
            "|=========================================================================================|\n",
            "|  No running processes found                                                             |\n",
            "+-----------------------------------------------------------------------------------------+\n"
          ]
        }
      ],
      "source": [
        "!nvidia-smi"
      ]
    },
    {
      "cell_type": "code",
      "source": [
        "from openai import OpenAI\n",
        "\n",
        "client = OpenAI(\n",
        "  base_url=\"https://openrouter.ai/api/v1\",\n",
        "  api_key=\"your api key\",\n",
        ")\n",
        "\n",
        "completion = client.chat.completions.create(\n",
        "  extra_headers={\n",
        "    \"HTTP-Referer\": \"<YOUR_SITE_URL>\", # Optional. Site URL for rankings on openrouter.ai.\n",
        "    \"X-Title\": \"<YOUR_SITE_NAME>\", # Optional. Site title for rankings on openrouter.ai.\n",
        "  },\n",
        "  extra_body={},\n",
        "  model=\"deepseek/deepseek-r1:free\",\n",
        "  messages=[\n",
        "    {\n",
        "      \"role\": \"user\",\n",
        "      \"content\": \"How a non technical user transit to data analyst?\"\n",
        "    }\n",
        "  ]\n",
        ")\n",
        "print(completion.choices[0].message.content)"
      ],
      "metadata": {
        "colab": {
          "base_uri": "https://localhost:8080/"
        },
        "id": "7PK-tnanC1M9",
        "outputId": "dadb9a9d-7d1a-43e4-811b-b4a262eda7ad"
      },
      "execution_count": 2,
      "outputs": [
        {
          "output_type": "stream",
          "name": "stdout",
          "text": [
            "Transitioning from a non-technical role to a data analyst involves a strategic blend of skill acquisition, practical experience, and networking. Here's a structured roadmap to guide the journey:\n",
            "\n",
            "### 1. **Build Foundational Skills**\n",
            "   - **Data Literacy & Statistics**: Start with basics like data types, descriptive statistics, and data visualization principles. Platforms like Khan Academy or Coursera offer introductory courses.\n",
            "   - **Excel Mastery**: Learn advanced functions (VLOOKUP, INDEX-MATCH), pivot tables, and basic data manipulation. Consider free tutorials on YouTube or paid courses on Udemy.\n",
            "   - **SQL**: Begin with simple queries (SELECT, WHERE, JOINs) using platforms like Codecademy, DataCamp, or Mode Analytics. Focus on retrieving and aggregating data.\n",
            "\n",
            "### 2. **Learn Analytical Tools**\n",
            "   - **Python/R**: Start with Python for its simplicity. Use free resources like Automate the Boring Stuff or DataCamp’s “Python for Data Science” track. Focus on libraries like Pandas, NumPy, and matplotlib.\n",
            "   - **Visualization Tools**: Learn Tableau Public or Power BI using free training videos. Create dashboards to practice storytelling with data.\n",
            "   - **Big Data Basics**: Explore tools like Google Analytics or Excel’s Power Query for data cleaning and transformation.\n",
            "\n",
            "### 3. **Execute Practical Projects**\n",
            "   - **Portfolio Development**: Use datasets from Kaggle, Google Dataset Search, or government portals (e.g., data.gov). Example projects:\n",
            "     - Analyzing sales trends.\n",
            "     - Visualizing COVID-19 data.\n",
            "     - Predicting housing prices (simple regression models).\n",
            "   - **GitHub/Personal Website**: Showcase projects with clear documentation. Highlight problem statements, methodologies, and insights.\n",
            "\n",
            "### 4. **Gain Credibility**\n",
            "   - **Certifications**:\n"
          ]
        }
      ]
    }
  ]
}